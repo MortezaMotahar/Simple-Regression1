{
  "nbformat": 4,
  "nbformat_minor": 0,
  "metadata": {
    "colab": {
      "provenance": []
    },
    "kernelspec": {
      "name": "python3",
      "display_name": "Python 3"
    },
    "language_info": {
      "name": "python"
    }
  },
  "cells": [
    {
      "cell_type": "code",
      "execution_count": null,
      "metadata": {
        "id": "RU2aWQbCB8FX",
        "colab": {
          "base_uri": "https://localhost:8080/"
        },
        "outputId": "d830a5c0-ae86-4d1c-e6fe-61c8137299b2"
      },
      "outputs": [
        {
          "output_type": "stream",
          "name": "stdout",
          "text": [
            "[5, 3, -1, 2, 6] [14, 6, -5.5, 3.5, 18]\n"
          ]
        }
      ],
      "source": [
        "x = [5, 3, -1, 2, 6]\n",
        "y = [14, 6, -5.5, 3.5, 18]"
      ]
    },
    {
      "cell_type": "code",
      "source": [
        "X, Y, XiYi, Xi2 = 0, 0, 0, 0\n",
        "n = len(x)\n",
        "for i in range(n):\n",
        "  X = X + x[i]\n",
        "  Y = Y + y[i]\n",
        "  XiYi = XiYi + x[i] * y[i]\n",
        "  Xi2 = Xi2 + x[i] ** 2\n",
        "print (n, X, Y, XiYi, Xi2)"
      ],
      "metadata": {
        "id": "duD5_Dv-6zlv",
        "colab": {
          "base_uri": "https://localhost:8080/"
        },
        "outputId": "13ee9504-0c71-4bb1-c36c-7a6c7b66bd08"
      },
      "execution_count": 5,
      "outputs": [
        {
          "output_type": "stream",
          "name": "stdout",
          "text": [
            "5 15 36.0 208.5 75\n"
          ]
        }
      ]
    },
    {
      "cell_type": "code",
      "source": [
        "w1 = (n * XiYi - X * Y)/(n * Xi2 - X ** 2)"
      ],
      "metadata": {
        "id": "K9rk04Oi92-_"
      },
      "execution_count": 8,
      "outputs": []
    },
    {
      "cell_type": "code",
      "source": [
        "w0 = (Y - w1 * X)/n"
      ],
      "metadata": {
        "id": "t-VgW_cA_I_x"
      },
      "execution_count": 9,
      "outputs": []
    }
  ]
}